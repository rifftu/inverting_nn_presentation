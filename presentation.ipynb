{
 "cells": [
  {
   "cell_type": "markdown",
   "metadata": {},
   "source": [
    "# Project: Reversing neural networks to find \"best input\" by inverting weights"
   ]
  },
  {
   "cell_type": "markdown",
   "metadata": {},
   "source": [
    "# 1. Problem Statement"
   ]
  },
  {
   "cell_type": "markdown",
   "metadata": {},
   "source": [
    "## 1.1 In words\n",
    "\n",
    "Given a previously trained classification neural network, can we <ins>analytically</ins> reverse the weights of the neural network, using inverse matrices and inverse activations, to find the <ins>ideal</ins> input that produces the perfect output for each class?\n",
    "\n",
    "We will try this for both a **Single-layer perceptron** and a **Multi-layer perceptron** , both trained on half the **MNIST handwritten digits** dataset.\n",
    "\n",
    "The results will be compared against an empirical, pixel-by-pixel method of finding an <ins> ideal</ins> input."
   ]
  },
  {
   "cell_type": "markdown",
   "metadata": {},
   "source": [
    "## 2.2 In math"
   ]
  },
  {
   "cell_type": "markdown",
   "metadata": {},
   "source": [
    "### 2.2.1: SLP"
   ]
  },
  {
   "cell_type": "markdown",
   "metadata": {},
   "source": [
    "**Here is my model of SLP:**\n",
    "\n",
    "$z = x \\cdot A$\n",
    "\n",
    "$y = softmax(z)$\n",
    "\n",
    "**Where:**\n",
    "\n",
    "$x \\in \\mathbb{R}^{784}$ : input vector\n",
    "\n",
    "$A \\in \\mathbb{R}^{784\\times 5}$ : trained weights\n",
    "\n",
    "$b \\in \\mathbb{R}^{5}$ : biases\n",
    "\n",
    "$y \\in \\mathbb{R}^{5}$ output (prediction), with one-hot encoding\n",
    "\n",
    "\n"
   ]
  },
  {
   "cell_type": "code",
   "execution_count": null,
   "metadata": {},
   "outputs": [],
   "source": []
  },
  {
   "cell_type": "markdown",
   "metadata": {
    "jp-MarkdownHeadingCollapsed": true,
    "tags": []
   },
   "source": [
    "#### Our goal: for n, find \"ideal\" $x'_n$, so that:\n",
    "\n",
    "$z'_n = x'_n \\cdot A$\n",
    "\n",
    "$y'_n = softmax(z'_n)$\n",
    "\n",
    "$y'_n \\approx $ perfect. For example, for $n=2$, $y'_n \\approx [0,0,1,0,0]$"
   ]
  },
  {
   "cell_type": "markdown",
   "metadata": {},
   "source": [
    "### 2.2.2: MLP"
   ]
  },
  {
   "cell_type": "markdown",
   "metadata": {},
   "source": [
    "   Relu: f(x) = x if x > 0, otherwise f(x) = 0\n",
    "   \n",
    "Leaky Relu: f(x) = x if x > 0, otherwise f(x) = 0.01x"
   ]
  },
  {
   "cell_type": "markdown",
   "metadata": {},
   "source": [
    "**Here is my model of 2-hidden-layer MLP:**\n",
    "\n",
    "$x \\in \\mathbb{R}^{784}$ : input vector\n",
    "\n",
    "$h_1 = leakyrelu(x \\cdot A_0 + b_0)$\n",
    "\n",
    "$h_2 = leakyrelu(h_1 \\cdot A_1 + b_1)$\n",
    "\n",
    "$z = h_2 \\cdot A_2 + b_2$\n",
    "\n",
    "$y = softmax(z)$\n",
    "\n",
    "**Where:**\n",
    "\n",
    "\n",
    "\n",
    "$A_0, A_1, A_2$ : trained weights\n",
    "\n",
    "$b_0, b_1, b_2$ : biases\n",
    "\n",
    "$h_1, h_2$ : hidden layers\n",
    "\n",
    "$z$: output of hidden layers\n",
    "\n",
    "$y \\in \\mathbb{R}^{5}$ output (prediction), with one-hot encoding\n",
    "\n"
   ]
  },
  {
   "cell_type": "markdown",
   "metadata": {},
   "source": [
    "#### Our goal:\n",
    "Our goal is still the same. To find $x'_n$ so that $y'_n$ is perfect."
   ]
  },
  {
   "cell_type": "markdown",
   "metadata": {
    "jp-MarkdownHeadingCollapsed": true,
    "tags": []
   },
   "source": [
    "# 2. Preperation: Loading the data and training the models\n",
    "This section is hidden because it's just code."
   ]
  },
  {
   "cell_type": "code",
   "execution_count": 5,
   "metadata": {},
   "outputs": [],
   "source": [
    "NUMBER_OF_NUMBERS = 5\n",
    "from joblib import dump, load\n",
    "\n",
    "import pandas as pd\n",
    "import sklearn\n",
    "import numpy as np\n",
    "\n",
    "from sklearn.preprocessing import OneHotEncoder\n",
    "\n",
    "from sklearn.neural_network import MLPClassifier\n",
    "\n",
    "from scipy.special import softmax, expit, logit\n",
    "\n",
    "from PIL import Image as im\n",
    "\n",
    "import tensorflow as tf\n",
    "\n",
    "from tensorflow.keras import Sequential\n",
    "from tensorflow.keras.layers import Dense\n",
    "from tensorflow.keras.utils import to_categorical\n",
    "import math\n",
    "import matplotlib.pyplot as plt"
   ]
  },
  {
   "cell_type": "code",
   "execution_count": 12,
   "metadata": {},
   "outputs": [],
   "source": [
    "mnist_train = pd.read_csv('mnist_train.csv')\n",
    "mnist_train = mnist_train[mnist_train.label <= (NUMBER_OF_NUMBERS-1)]\n",
    "mnist_array = np.array(mnist_train)\n",
    "Xtrain, ytrain = mnist_array[:,1:], mnist_array[:,0]\n",
    "Xtrain_normalized = Xtrain/127.5 - 1\n",
    "onehot = OneHotEncoder()\n",
    "ytrain_onehot = to_categorical(ytrain)"
   ]
  },
  {
   "cell_type": "code",
   "execution_count": 13,
   "metadata": {
    "scrolled": true,
    "tags": []
   },
   "outputs": [
    {
     "name": "stdout",
     "output_type": "stream",
     "text": [
      "Epoch 1/100\n",
      "670/670 [==============================] - 1s 743us/step - loss: 0.1723 - categorical_accuracy: 0.9455\n",
      "Epoch 2/100\n",
      "670/670 [==============================] - 0s 699us/step - loss: 0.0854 - categorical_accuracy: 0.9731\n",
      "Epoch 3/100\n",
      "670/670 [==============================] - 0s 698us/step - loss: 0.0644 - categorical_accuracy: 0.9800\n",
      "Epoch 4/100\n",
      "670/670 [==============================] - 0s 693us/step - loss: 0.0554 - categorical_accuracy: 0.9832\n",
      "Epoch 5/100\n",
      "670/670 [==============================] - 1s 842us/step - loss: 0.0453 - categorical_accuracy: 0.9855\n",
      "Epoch 6/100\n",
      "670/670 [==============================] - 0s 706us/step - loss: 0.0387 - categorical_accuracy: 0.9878\n",
      "Epoch 7/100\n",
      "670/670 [==============================] - 0s 694us/step - loss: 0.0356 - categorical_accuracy: 0.9885\n",
      "Epoch 8/100\n",
      "670/670 [==============================] - 0s 708us/step - loss: 0.0329 - categorical_accuracy: 0.9890\n",
      "Epoch 9/100\n",
      "670/670 [==============================] - 1s 914us/step - loss: 0.0265 - categorical_accuracy: 0.9914\n",
      "Epoch 10/100\n",
      "670/670 [==============================] - 0s 715us/step - loss: 0.0292 - categorical_accuracy: 0.9901\n",
      "Epoch 11/100\n",
      "670/670 [==============================] - 0s 717us/step - loss: 0.0214 - categorical_accuracy: 0.9926\n",
      "Epoch 12/100\n",
      "670/670 [==============================] - 0s 704us/step - loss: 0.0231 - categorical_accuracy: 0.9925\n",
      "Epoch 13/100\n",
      "670/670 [==============================] - 1s 748us/step - loss: 0.0182 - categorical_accuracy: 0.9939\n",
      "Epoch 14/100\n",
      "670/670 [==============================] - 1s 952us/step - loss: 0.0240 - categorical_accuracy: 0.9923\n",
      "Epoch 15/100\n",
      "670/670 [==============================] - 1s 769us/step - loss: 0.0173 - categorical_accuracy: 0.9936\n",
      "Epoch 16/100\n",
      "670/670 [==============================] - 1s 755us/step - loss: 0.0154 - categorical_accuracy: 0.9949\n",
      "Epoch 17/100\n",
      "670/670 [==============================] - 1s 770us/step - loss: 0.0156 - categorical_accuracy: 0.9944\n",
      "Epoch 18/100\n",
      "670/670 [==============================] - 1s 748us/step - loss: 0.0165 - categorical_accuracy: 0.9941\n",
      "Epoch 19/100\n",
      "670/670 [==============================] - 1s 987us/step - loss: 0.0126 - categorical_accuracy: 0.9951\n",
      "Epoch 20/100\n",
      "670/670 [==============================] - 1s 796us/step - loss: 0.0132 - categorical_accuracy: 0.9955\n",
      "Epoch 21/100\n",
      "670/670 [==============================] - 1s 770us/step - loss: 0.0107 - categorical_accuracy: 0.9961\n",
      "Epoch 22/100\n",
      "670/670 [==============================] - 1s 764us/step - loss: 0.0141 - categorical_accuracy: 0.9951\n",
      "Epoch 23/100\n",
      "670/670 [==============================] - 1s 820us/step - loss: 0.0123 - categorical_accuracy: 0.9955\n",
      "Epoch 24/100\n",
      "670/670 [==============================] - 1s 1ms/step - loss: 0.0105 - categorical_accuracy: 0.9967\n",
      "Epoch 25/100\n",
      "670/670 [==============================] - 1s 850us/step - loss: 0.0063 - categorical_accuracy: 0.9983\n",
      "Epoch 26/100\n",
      "670/670 [==============================] - 1s 913us/step - loss: 0.0141 - categorical_accuracy: 0.9954\n",
      "Epoch 27/100\n",
      "670/670 [==============================] - 1s 942us/step - loss: 0.0114 - categorical_accuracy: 0.9958\n",
      "Epoch 28/100\n",
      "670/670 [==============================] - 1s 896us/step - loss: 0.0030 - categorical_accuracy: 0.9991\n",
      "Epoch 29/100\n",
      "670/670 [==============================] - 1s 1ms/step - loss: 0.0084 - categorical_accuracy: 0.9975\n",
      "Epoch 30/100\n",
      "670/670 [==============================] - 1s 917us/step - loss: 0.0112 - categorical_accuracy: 0.9958\n",
      "Epoch 31/100\n",
      "670/670 [==============================] - 0s 715us/step - loss: 0.0081 - categorical_accuracy: 0.9970\n",
      "Epoch 32/100\n",
      "670/670 [==============================] - 0s 661us/step - loss: 0.0082 - categorical_accuracy: 0.9974\n",
      "Epoch 33/100\n",
      "670/670 [==============================] - 0s 690us/step - loss: 0.0097 - categorical_accuracy: 0.9967\n",
      "Epoch 34/100\n",
      "670/670 [==============================] - 0s 690us/step - loss: 0.0067 - categorical_accuracy: 0.9975\n",
      "Epoch 35/100\n",
      "670/670 [==============================] - 0s 644us/step - loss: 0.0080 - categorical_accuracy: 0.9975\n",
      "Epoch 36/100\n",
      "670/670 [==============================] - 0s 648us/step - loss: 0.0063 - categorical_accuracy: 0.9981\n",
      "Epoch 37/100\n",
      "670/670 [==============================] - 0s 726us/step - loss: 0.0062 - categorical_accuracy: 0.9977\n",
      "Epoch 38/100\n",
      "670/670 [==============================] - 0s 720us/step - loss: 0.0122 - categorical_accuracy: 0.9960\n",
      "Epoch 39/100\n",
      "670/670 [==============================] - 0s 723us/step - loss: 0.0054 - categorical_accuracy: 0.9981\n",
      "Epoch 40/100\n",
      "670/670 [==============================] - 0s 687us/step - loss: 0.0043 - categorical_accuracy: 0.9985\n",
      "Epoch 41/100\n",
      "670/670 [==============================] - 0s 649us/step - loss: 0.0098 - categorical_accuracy: 0.9969\n",
      "Epoch 42/100\n",
      "670/670 [==============================] - 0s 652us/step - loss: 0.0057 - categorical_accuracy: 0.9985\n",
      "Epoch 43/100\n",
      "670/670 [==============================] - 0s 678us/step - loss: 2.3311e-04 - categorical_accuracy: 1.0000\n",
      "Epoch 44/100\n",
      "670/670 [==============================] - 0s 677us/step - loss: 1.0697e-04 - categorical_accuracy: 1.0000\n",
      "Epoch 45/100\n",
      "670/670 [==============================] - 0s 700us/step - loss: 8.2601e-05 - categorical_accuracy: 1.0000\n",
      "Epoch 46/100\n",
      "670/670 [==============================] - 0s 696us/step - loss: 5.2651e-05 - categorical_accuracy: 1.0000\n",
      "Epoch 47/100\n",
      "670/670 [==============================] - 0s 672us/step - loss: 3.4871e-04 - categorical_accuracy: 1.0000\n",
      "Epoch 48/100\n",
      "670/670 [==============================] - 1s 863us/step - loss: 0.0254 - categorical_accuracy: 0.9931\n",
      "Epoch 49/100\n",
      "670/670 [==============================] - 1s 791us/step - loss: 0.0051 - categorical_accuracy: 0.9982\n",
      "Epoch 50/100\n",
      "670/670 [==============================] - 0s 738us/step - loss: 0.0044 - categorical_accuracy: 0.9984\n",
      "Epoch 51/100\n",
      "670/670 [==============================] - 0s 708us/step - loss: 0.0042 - categorical_accuracy: 0.9987\n",
      "Epoch 52/100\n",
      "670/670 [==============================] - 1s 945us/step - loss: 0.0076 - categorical_accuracy: 0.9974\n",
      "Epoch 53/100\n",
      "670/670 [==============================] - 1s 1ms/step - loss: 0.0037 - categorical_accuracy: 0.9988\n",
      "Epoch 54/100\n",
      "670/670 [==============================] - 1s 1ms/step - loss: 0.0091 - categorical_accuracy: 0.9969\n",
      "Epoch 55/100\n",
      "670/670 [==============================] - 1s 1ms/step - loss: 0.0049 - categorical_accuracy: 0.9985\n",
      "Epoch 56/100\n",
      "670/670 [==============================] - 1s 787us/step - loss: 0.0036 - categorical_accuracy: 0.9987\n",
      "Epoch 57/100\n",
      "670/670 [==============================] - 1s 850us/step - loss: 0.0032 - categorical_accuracy: 0.9988\n",
      "Epoch 58/100\n",
      "670/670 [==============================] - 1s 801us/step - loss: 0.0110 - categorical_accuracy: 0.9968\n",
      "Epoch 59/100\n",
      "670/670 [==============================] - 1s 810us/step - loss: 0.0058 - categorical_accuracy: 0.9986\n",
      "Epoch 60/100\n",
      "670/670 [==============================] - 1s 847us/step - loss: 2.5231e-04 - categorical_accuracy: 1.0000\n",
      "Epoch 61/100\n",
      "670/670 [==============================] - 1s 794us/step - loss: 2.0705e-04 - categorical_accuracy: 1.0000\n",
      "Epoch 62/100\n",
      "670/670 [==============================] - 1s 801us/step - loss: 0.0136 - categorical_accuracy: 0.9961\n",
      "Epoch 63/100\n",
      "670/670 [==============================] - 1s 811us/step - loss: 0.0049 - categorical_accuracy: 0.9984\n",
      "Epoch 64/100\n",
      "670/670 [==============================] - 1s 829us/step - loss: 0.0064 - categorical_accuracy: 0.9979\n",
      "Epoch 65/100\n",
      "670/670 [==============================] - 1s 804us/step - loss: 0.0026 - categorical_accuracy: 0.9992\n",
      "Epoch 66/100\n",
      "670/670 [==============================] - 1s 810us/step - loss: 0.0033 - categorical_accuracy: 0.9988\n",
      "Epoch 67/100\n",
      "670/670 [==============================] - 1s 817us/step - loss: 0.0095 - categorical_accuracy: 0.9974\n",
      "Epoch 68/100\n",
      "670/670 [==============================] - 1s 842us/step - loss: 0.0045 - categorical_accuracy: 0.9987\n",
      "Epoch 69/100\n",
      "670/670 [==============================] - 1s 985us/step - loss: 0.0022 - categorical_accuracy: 0.9993\n",
      "Epoch 70/100\n",
      "670/670 [==============================] - 1s 1ms/step - loss: 0.0035 - categorical_accuracy: 0.9988\n",
      "Epoch 71/100\n",
      "670/670 [==============================] - 1s 856us/step - loss: 0.0129 - categorical_accuracy: 0.9965\n",
      "Epoch 72/100\n",
      "670/670 [==============================] - 1s 890us/step - loss: 1.2438e-04 - categorical_accuracy: 1.0000\n",
      "Epoch 73/100\n",
      "670/670 [==============================] - 1s 1ms/step - loss: 4.1996e-05 - categorical_accuracy: 1.0000\n",
      "Epoch 74/100\n",
      "670/670 [==============================] - 1s 1ms/step - loss: 2.9356e-05 - categorical_accuracy: 1.0000\n",
      "Epoch 75/100\n",
      "670/670 [==============================] - 1s 880us/step - loss: 2.2712e-05 - categorical_accuracy: 1.0000\n",
      "Epoch 76/100\n",
      "670/670 [==============================] - 1s 829us/step - loss: 1.8160e-05 - categorical_accuracy: 1.0000\n",
      "Epoch 77/100\n",
      "670/670 [==============================] - 1s 896us/step - loss: 1.4938e-05 - categorical_accuracy: 1.0000\n",
      "Epoch 78/100\n",
      "670/670 [==============================] - 1s 947us/step - loss: 1.1843e-05 - categorical_accuracy: 1.0000\n",
      "Epoch 79/100\n",
      "670/670 [==============================] - 1s 818us/step - loss: 9.6820e-06 - categorical_accuracy: 1.0000\n",
      "Epoch 80/100\n",
      "670/670 [==============================] - 1s 957us/step - loss: 8.2659e-06 - categorical_accuracy: 1.0000\n",
      "Epoch 81/100\n",
      "670/670 [==============================] - 1s 903us/step - loss: 7.5156e-06 - categorical_accuracy: 1.0000\n",
      "Epoch 82/100\n",
      "670/670 [==============================] - 1s 991us/step - loss: 5.2744e-06 - categorical_accuracy: 1.0000\n",
      "Epoch 83/100\n",
      "670/670 [==============================] - 1s 964us/step - loss: 5.8025e-06 - categorical_accuracy: 1.0000\n",
      "Epoch 84/100\n",
      "670/670 [==============================] - 1s 934us/step - loss: 0.0175 - categorical_accuracy: 0.9962\n",
      "Epoch 85/100\n",
      "670/670 [==============================] - 1s 806us/step - loss: 0.0052 - categorical_accuracy: 0.9981\n",
      "Epoch 86/100\n",
      "670/670 [==============================] - 1s 872us/step - loss: 7.3412e-04 - categorical_accuracy: 0.9997\n",
      "Epoch 87/100\n",
      "670/670 [==============================] - 1s 753us/step - loss: 6.4105e-05 - categorical_accuracy: 1.0000\n",
      "Epoch 88/100\n",
      "670/670 [==============================] - 0s 740us/step - loss: 3.0884e-05 - categorical_accuracy: 1.0000\n",
      "Epoch 89/100\n",
      "670/670 [==============================] - 0s 723us/step - loss: 1.6330e-05 - categorical_accuracy: 1.0000\n",
      "Epoch 90/100\n",
      "670/670 [==============================] - 1s 793us/step - loss: 1.2772e-05 - categorical_accuracy: 1.0000\n",
      "Epoch 91/100\n",
      "670/670 [==============================] - 1s 803us/step - loss: 1.0375e-05 - categorical_accuracy: 1.0000\n",
      "Epoch 92/100\n",
      "670/670 [==============================] - 0s 744us/step - loss: 8.4662e-06 - categorical_accuracy: 1.0000\n",
      "Epoch 93/100\n",
      "670/670 [==============================] - 1s 883us/step - loss: 6.7187e-06 - categorical_accuracy: 1.0000\n",
      "Epoch 94/100\n",
      "670/670 [==============================] - 1s 810us/step - loss: 5.4278e-06 - categorical_accuracy: 1.0000\n",
      "Epoch 95/100\n",
      "670/670 [==============================] - 1s 901us/step - loss: 4.0060e-06 - categorical_accuracy: 1.0000\n",
      "Epoch 96/100\n",
      "670/670 [==============================] - 1s 779us/step - loss: 3.3489e-06 - categorical_accuracy: 1.0000\n",
      "Epoch 97/100\n",
      "670/670 [==============================] - 1s 797us/step - loss: 2.7769e-06 - categorical_accuracy: 1.0000\n",
      "Epoch 98/100\n",
      "670/670 [==============================] - 1s 794us/step - loss: 2.1520e-06 - categorical_accuracy: 1.0000\n",
      "Epoch 99/100\n",
      "670/670 [==============================] - 0s 730us/step - loss: 1.6104e-06 - categorical_accuracy: 1.0000\n",
      "Epoch 100/100\n",
      "670/670 [==============================] - 1s 781us/step - loss: 1.3450e-06 - categorical_accuracy: 1.0000\n"
     ]
    },
    {
     "name": "stderr",
     "output_type": "stream",
     "text": [
      "WARNING:absl:Found untraced functions such as leaky_re_lu_layer_call_and_return_conditional_losses, leaky_re_lu_layer_call_fn, leaky_re_lu_1_layer_call_and_return_conditional_losses, leaky_re_lu_1_layer_call_fn, leaky_re_lu_layer_call_fn while saving (showing 5 of 10). These functions will not be directly callable after loading.\n"
     ]
    },
    {
     "name": "stdout",
     "output_type": "stream",
     "text": [
      "INFO:tensorflow:Assets written to: saved_model/my_model_5/assets\n"
     ]
    },
    {
     "name": "stderr",
     "output_type": "stream",
     "text": [
      "INFO:tensorflow:Assets written to: saved_model/my_model_5/assets\n"
     ]
    }
   ],
   "source": [
    "LEAKY_ALPHA = 0.01\n",
    "mlp = Sequential()\n",
    "mlp.add(Dense(30,  activation=tf.keras.layers.LeakyReLU(alpha=LEAKY_ALPHA)))\n",
    "mlp.add(Dense(30, activation=tf.keras.layers.LeakyReLU(alpha=LEAKY_ALPHA)))\n",
    "mlp.add(Dense(NUMBER_OF_NUMBERS))\n",
    "mlp.compile(\n",
    "    optimizer=tf.keras.optimizers.Adam(0.001),\n",
    "    loss=tf.keras.losses.CategoricalCrossentropy(from_logits=True),\n",
    "    metrics=[tf.keras.metrics.CategoricalAccuracy()],\n",
    ")\n",
    "mlp.fit(Xtrain_normalized, ytrain_onehot, epochs=20*NUMBER_OF_NUMBERS)\n",
    "!mkdir -p saved_model\n",
    "mlp.save(f'saved_model/my_model_{NUMBER_OF_NUMBERS}')"
   ]
  },
  {
   "cell_type": "code",
   "execution_count": 14,
   "metadata": {
    "scrolled": true,
    "tags": []
   },
   "outputs": [
    {
     "name": "stdout",
     "output_type": "stream",
     "text": [
      "Iteration 1, loss = 1.28633554\n",
      "Iteration 2, loss = 0.52725041\n",
      "Iteration 3, loss = 0.42080620\n",
      "Iteration 4, loss = 0.37180152\n",
      "Iteration 5, loss = 0.34355897\n",
      "Iteration 6, loss = 0.32459605\n",
      "Iteration 7, loss = 0.31190540\n",
      "Iteration 8, loss = 0.30139658\n",
      "Iteration 9, loss = 0.29545091\n",
      "Iteration 10, loss = 0.28906946\n",
      "Iteration 11, loss = 0.28304599\n",
      "Iteration 12, loss = 0.27873061\n",
      "Iteration 13, loss = 0.27408022\n",
      "Iteration 14, loss = 0.27323926\n",
      "Iteration 15, loss = 0.26763254\n",
      "Iteration 16, loss = 0.26515784\n",
      "Iteration 17, loss = 0.26367915\n",
      "Iteration 18, loss = 0.26243229\n",
      "Iteration 19, loss = 0.25995834\n",
      "Iteration 20, loss = 0.25768161\n",
      "Iteration 21, loss = 0.25653428\n",
      "Iteration 22, loss = 0.25336445\n",
      "Iteration 23, loss = 0.25269989\n",
      "Iteration 24, loss = 0.25044467\n",
      "Iteration 25, loss = 0.24851583\n",
      "Iteration 26, loss = 0.24938642\n",
      "Iteration 27, loss = 0.24593664\n",
      "Iteration 28, loss = 0.24484306\n",
      "Iteration 29, loss = 0.24487192\n",
      "Iteration 30, loss = 0.24654780\n",
      "Iteration 31, loss = 0.24256897\n",
      "Iteration 32, loss = 0.24061632\n",
      "Iteration 33, loss = 0.24055141\n",
      "Iteration 34, loss = 0.23993005\n",
      "Iteration 35, loss = 0.23858672\n",
      "Iteration 36, loss = 0.23740982\n",
      "Iteration 37, loss = 0.23701138\n",
      "Iteration 38, loss = 0.23625578\n",
      "Iteration 39, loss = 0.23470634\n",
      "Iteration 40, loss = 0.23695784\n",
      "Iteration 41, loss = 0.23534673\n",
      "Iteration 42, loss = 0.23614070\n",
      "Iteration 43, loss = 0.23237333\n",
      "Iteration 44, loss = 0.23464435\n",
      "Iteration 45, loss = 0.23486604\n",
      "Iteration 46, loss = 0.23133208\n",
      "Iteration 47, loss = 0.23044956\n",
      "Iteration 48, loss = 0.22972695\n",
      "Iteration 49, loss = 0.23117309\n",
      "Iteration 50, loss = 0.22980521\n",
      "Iteration 51, loss = 0.22894105\n",
      "Iteration 52, loss = 0.23021352\n",
      "Iteration 53, loss = 0.22755614\n",
      "Iteration 54, loss = 0.22719621\n",
      "Iteration 55, loss = 0.22789584\n",
      "Iteration 56, loss = 0.22825420\n",
      "Iteration 57, loss = 0.22661555\n",
      "Iteration 58, loss = 0.22697905\n",
      "Iteration 59, loss = 0.22611484\n",
      "Iteration 60, loss = 0.22458599\n",
      "Iteration 61, loss = 0.22544761\n",
      "Iteration 62, loss = 0.22331210\n",
      "Iteration 63, loss = 0.22489925\n",
      "Iteration 64, loss = 0.22307948\n",
      "Iteration 65, loss = 0.22207785\n",
      "Iteration 66, loss = 0.22374158\n",
      "Iteration 67, loss = 0.22165351\n",
      "Iteration 68, loss = 0.22169134\n",
      "Iteration 69, loss = 0.22194164\n",
      "Iteration 70, loss = 0.22200877\n",
      "Iteration 71, loss = 0.22254015\n",
      "Iteration 72, loss = 0.22006700\n",
      "Iteration 73, loss = 0.21940049\n",
      "Iteration 74, loss = 0.21891973\n",
      "Iteration 75, loss = 0.22104869\n",
      "Iteration 76, loss = 0.21948196\n",
      "Iteration 77, loss = 0.21921819\n",
      "Iteration 78, loss = 0.21841219\n",
      "Iteration 79, loss = 0.21857860\n",
      "Iteration 80, loss = 0.21871062\n",
      "Iteration 81, loss = 0.21905473\n",
      "Iteration 82, loss = 0.21825612\n",
      "Iteration 83, loss = 0.21895718\n",
      "Iteration 84, loss = 0.21633575\n",
      "Iteration 85, loss = 0.21718030\n",
      "Iteration 86, loss = 0.21827948\n",
      "Iteration 87, loss = 0.21723348\n",
      "Iteration 88, loss = 0.21577293\n",
      "Iteration 89, loss = 0.21679938\n",
      "Iteration 90, loss = 0.21455595\n",
      "Iteration 91, loss = 0.21442682\n",
      "Iteration 92, loss = 0.21562348\n",
      "Iteration 93, loss = 0.21396694\n",
      "Iteration 94, loss = 0.21474071\n",
      "Iteration 95, loss = 0.21377794\n",
      "Iteration 96, loss = 0.21505837\n",
      "Iteration 97, loss = 0.21418566\n",
      "Iteration 98, loss = 0.21412836\n",
      "Iteration 99, loss = 0.21473816\n",
      "Iteration 100, loss = 0.21408266\n",
      "Iteration 101, loss = 0.21580344\n",
      "Iteration 102, loss = 0.21287549\n",
      "Iteration 103, loss = 0.21206380\n",
      "Iteration 104, loss = 0.21161836\n",
      "Iteration 105, loss = 0.21193455\n",
      "Iteration 106, loss = 0.21338482\n",
      "Iteration 107, loss = 0.21178114\n",
      "Iteration 108, loss = 0.21177027\n",
      "Iteration 109, loss = 0.21213490\n",
      "Iteration 110, loss = 0.21261338\n",
      "Iteration 111, loss = 0.21096543\n",
      "Iteration 112, loss = 0.20934501\n",
      "Iteration 113, loss = 0.21232682\n",
      "Iteration 114, loss = 0.21009108\n",
      "Iteration 115, loss = 0.21161332\n",
      "Iteration 116, loss = 0.21114964\n",
      "Iteration 117, loss = 0.20920718\n",
      "Iteration 118, loss = 0.21257029\n",
      "Iteration 119, loss = 0.20980943\n",
      "Iteration 120, loss = 0.20882434\n",
      "Iteration 121, loss = 0.20850523\n",
      "Iteration 122, loss = 0.20913490\n",
      "Iteration 123, loss = 0.20877813\n",
      "Iteration 124, loss = 0.20951970\n",
      "Iteration 125, loss = 0.20820416\n",
      "Iteration 126, loss = 0.20941862\n",
      "Iteration 127, loss = 0.20922394\n",
      "Iteration 128, loss = 0.20762321\n",
      "Iteration 129, loss = 0.20745808\n",
      "Iteration 130, loss = 0.20746852\n",
      "Iteration 131, loss = 0.20814246\n",
      "Iteration 132, loss = 0.20881139\n",
      "Iteration 133, loss = 0.20804153\n",
      "Iteration 134, loss = 0.20653738\n",
      "Iteration 135, loss = 0.20651896\n",
      "Iteration 136, loss = 0.20807404\n",
      "Iteration 137, loss = 0.20789109\n",
      "Iteration 138, loss = 0.20638622\n",
      "Iteration 139, loss = 0.20643118\n",
      "Iteration 140, loss = 0.20573375\n",
      "Iteration 141, loss = 0.20728833\n",
      "Iteration 142, loss = 0.20750314\n",
      "Iteration 143, loss = 0.20657672\n",
      "Iteration 144, loss = 0.20606288\n",
      "Iteration 145, loss = 0.20638048\n",
      "Iteration 146, loss = 0.20523708\n",
      "Iteration 147, loss = 0.20593930\n",
      "Iteration 148, loss = 0.20586692\n",
      "Iteration 149, loss = 0.20672593\n",
      "Iteration 150, loss = 0.20599199\n",
      "Iteration 151, loss = 0.20430315\n",
      "Iteration 152, loss = 0.20532766\n",
      "Iteration 153, loss = 0.20491952\n",
      "Iteration 154, loss = 0.20539862\n",
      "Iteration 155, loss = 0.20431186\n",
      "Iteration 156, loss = 0.20518317\n",
      "Iteration 157, loss = 0.20329410\n",
      "Iteration 158, loss = 0.20434530\n",
      "Iteration 159, loss = 0.20320504\n",
      "Iteration 160, loss = 0.20308466\n",
      "Iteration 161, loss = 0.20393622\n",
      "Iteration 162, loss = 0.20308613\n",
      "Iteration 163, loss = 0.20314126\n",
      "Iteration 164, loss = 0.20264300\n",
      "Iteration 165, loss = 0.20271053\n",
      "Iteration 166, loss = 0.20369038\n",
      "Iteration 167, loss = 0.20366321\n",
      "Iteration 168, loss = 0.20282336\n",
      "Iteration 169, loss = 0.20276173\n",
      "Iteration 170, loss = 0.20258263\n",
      "Iteration 171, loss = 0.20482488\n",
      "Iteration 172, loss = 0.20240396\n",
      "Iteration 173, loss = 0.20318769\n",
      "Iteration 174, loss = 0.20276786\n",
      "Iteration 175, loss = 0.20236253\n",
      "Iteration 176, loss = 0.20231997\n",
      "Iteration 177, loss = 0.20246429\n",
      "Iteration 178, loss = 0.20085077\n",
      "Iteration 179, loss = 0.20266977\n",
      "Iteration 180, loss = 0.20323350\n",
      "Iteration 181, loss = 0.20519397\n",
      "Iteration 182, loss = 0.20160522\n",
      "Iteration 183, loss = 0.20146178\n",
      "Iteration 184, loss = 0.20160702\n",
      "Iteration 185, loss = 0.20267993\n",
      "Iteration 186, loss = 0.20189363\n",
      "Iteration 187, loss = 0.20044428\n",
      "Iteration 188, loss = 0.19979469\n",
      "Iteration 189, loss = 0.20092429\n",
      "Iteration 190, loss = 0.20147497\n",
      "Iteration 191, loss = 0.20021985\n",
      "Iteration 192, loss = 0.20162299\n",
      "Iteration 193, loss = 0.20182459\n",
      "Iteration 194, loss = 0.20124058\n",
      "Iteration 195, loss = 0.19957737\n",
      "Iteration 196, loss = 0.19966501\n",
      "Iteration 197, loss = 0.19938037\n",
      "Iteration 198, loss = 0.19982027\n",
      "Iteration 199, loss = 0.19973211\n",
      "Iteration 200, loss = 0.19985044\n"
     ]
    },
    {
     "name": "stderr",
     "output_type": "stream",
     "text": [
      "/Users/laijl/opt/anaconda3/envs/mlproject/lib/python3.8/site-packages/sklearn/neural_network/_multilayer_perceptron.py:614: ConvergenceWarning: Stochastic Optimizer: Maximum iterations (200) reached and the optimization hasn't converged yet.\n",
      "  warnings.warn(\n"
     ]
    },
    {
     "data": {
      "text/plain": [
       "['trained_normalized_slp_5']"
      ]
     },
     "execution_count": 14,
     "metadata": {},
     "output_type": "execute_result"
    }
   ],
   "source": [
    "slp = MLPClassifier(hidden_layer_sizes=(), verbose=1)\n",
    "slp.fit(Xtrain_normalized, ytrain_onehot)\n",
    "dump(slp,f'trained_normalized_slp_{NUMBER_OF_NUMBERS}')"
   ]
  },
  {
   "cell_type": "markdown",
   "metadata": {},
   "source": [
    "# 3. SLP"
   ]
  },
  {
   "cell_type": "markdown",
   "metadata": {},
   "source": [
    "## 3.1 Baseline: Empirical (pixel by pixel) method"
   ]
  },
  {
   "cell_type": "markdown",
   "metadata": {},
   "source": [
    "Method (Same for both SLP and MLP):\n",
    "\n",
    "Given an n value in [0,1,2,3,4].\n",
    "\n",
    "1. For every pixel i in [0,784):\n",
    "\n",
    "    a) Create a test array where the pixel i is 1, and all 783 other pixels are 0.\n",
    "\n",
    "    b) Use the model to predict a $y$ value for the test array. How close is it to the \"perfect\" $y'$ (for example, [0,1,0,0]?)\n",
    "\n",
    "2. Rank every pixel by how good their individual predictions are\n",
    "\n",
    "3. Make the pixels with the best predictions white, the next ones gray, then black.\n"
   ]
  },
  {
   "cell_type": "markdown",
   "metadata": {
    "jp-MarkdownHeadingCollapsed": true,
    "tags": []
   },
   "source": [
    "#### Code"
   ]
  },
  {
   "cell_type": "code",
   "execution_count": 18,
   "metadata": {},
   "outputs": [],
   "source": [
    "def display_dictionary_of_images(dic):\n",
    "    %matplotlib inline\n",
    "\n",
    "    for key in dic.keys():\n",
    "\n",
    "        # Reshape the input vector from 1D 784 to 2D 28x28\n",
    "        # And make it 8-bit \n",
    "        x_prime = dic[key]\n",
    "        x_prime_reshaped = x_prime.reshape((28,28)).astype('uint8')\n",
    "\n",
    "        # Use image module to turn the array into an image\n",
    "        image = im.fromarray(x_prime_reshaped, mode='L')\n",
    "\n",
    "        #Display the image\n",
    "        plt.figure()\n",
    "        plt.title(key)\n",
    "        plt.imshow(np.asarray(image),cmap='Greys_r', vmin=0, vmax=255)\n"
   ]
  },
  {
   "cell_type": "code",
   "execution_count": 15,
   "metadata": {},
   "outputs": [],
   "source": [
    "A, b = slp.coefs_[0], slp.intercepts_[0]"
   ]
  },
  {
   "cell_type": "code",
   "execution_count": 16,
   "metadata": {},
   "outputs": [],
   "source": [
    "dic = {}\n",
    "\n",
    "for i in range(NUMBER_OF_NUMBERS):\n",
    "    goal_index = i\n",
    "    def get_priority(index):\n",
    "        test = np.zeros((784))\n",
    "        test[index] = 1\n",
    "        testtest = test@A+b\n",
    "        goals = np.ones((NUMBER_OF_NUMBERS)) * -1\n",
    "\n",
    "        goals[goal_index] = 1\n",
    "        return sum(testtest * goals)\n",
    "    ls = list(range(784))\n",
    "    ls.sort(reverse=True, key=get_priority)\n",
    "\n",
    "#     whites = np.array(ls[:150]) \n",
    "    x = np.zeros((784))\n",
    "#     x[whites] = 255\n",
    "    for j in range(255):\n",
    "        x[ls[j]] = 255 - j\n",
    "    dic[f'black and white number {i}'] = x"
   ]
  },
  {
   "cell_type": "code",
   "execution_count": 22,
   "metadata": {},
   "outputs": [],
   "source": [
    "np.set_printoptions(formatter={'float': '{: 0.10f}'.format})"
   ]
  },
  {
   "cell_type": "markdown",
   "metadata": {},
   "source": [
    "#### Results"
   ]
  },
  {
   "cell_type": "markdown",
   "metadata": {},
   "source": [
    "Here are the results."
   ]
  },
  {
   "cell_type": "code",
   "execution_count": 19,
   "metadata": {},
   "outputs": [
    {
     "data": {
      "image/png": "[encoded data removed]",
      "text/plain": [
       "<Figure size 432x288 with 1 Axes>"
      ]
     },
     "metadata": {
      "needs_background": "light"
     },
     "output_type": "display_data"
    },
    {
     "data": {
      "image/png": "[encoded data removed]",
      "text/plain": [
       "<Figure size 432x288 with 1 Axes>"
      ]
     },
     "metadata": {
      "needs_background": "light"
     },
     "output_type": "display_data"
    },
    {
     "data": {
      "image/png": "[encoded data removed]",
      "text/plain": [
       "<Figure size 432x288 with 1 Axes>"
      ]
     },
     "metadata": {
      "needs_background": "light"
     },
     "output_type": "display_data"
    },
    {
     "data": {
      "image/png": "[encoded data removed]",
      "text/plain": [
       "<Figure size 432x288 with 1 Axes>"
      ]
     },
     "metadata": {
      "needs_background": "light"
     },
     "output_type": "display_data"
    },
    {
     "data": {
      "image/png": "[encoded data removed]",
      "text/plain": [
       "<Figure size 432x288 with 1 Axes>"
      ]
     },
     "metadata": {
      "needs_background": "light"
     },
     "output_type": "display_data"
    }
   ],
   "source": [
    "display_dictionary_of_images(dic)"
   ]
  },
  {
   "cell_type": "markdown",
   "metadata": {},
   "source": [
    "## 3.2 The Analytical, inverse way!"
   ]
  },
  {
   "cell_type": "markdown",
   "metadata": {},
   "source": [
    "### 3.2.1 What we did first: Defining an approximate $z'_n$"
   ]
  },
  {
   "cell_type": "markdown",
   "metadata": {},
   "source": [
    "Recall: We want $y'_n$, which is softmax($z'_n$), to look like [0,1,0,0,0].\n",
    "\n",
    "This is impossible, because for $y$ to be exactly that, $z$ would have to be [-inf, +inf, -inf,-inf,-inf]\n",
    "\n",
    "So we made $z'_n$ to be $z'[n] = 10$ and $z'[i] = -1 \\; \\forall \\; i \\neq n$. Which looks like [-10, 10, -10, -10, -10]\n",
    "\n",
    "As you can see below, this is very close:"
   ]
  },
  {
   "cell_type": "code",
   "execution_count": 24,
   "metadata": {},
   "outputs": [
    {
     "name": "stdout",
     "output_type": "stream",
     "text": [
      "[ 0.0000000021  0.9999999918  0.0000000021  0.0000000021  0.0000000021]\n"
     ]
    }
   ],
   "source": [
    "z = [-10, 10, -10, -10, -10]\n",
    "y = softmax(z)\n",
    "print(y)"
   ]
  },
  {
   "cell_type": "markdown",
   "metadata": {},
   "source": [
    "That is almost perfect."
   ]
  },
  {
   "cell_type": "markdown",
   "metadata": {},
   "source": [
    "### 3.2.2 What we did next: Finding $A^+$"
   ]
  },
  {
   "cell_type": "markdown",
   "metadata": {},
   "source": [
    "#### What is $A^+$.\n",
    "Recall that we have $z' = x' \\cdot A$.\n",
    "\n",
    "It would be great if we know $A^{-1}$. Then we could just do $x' = z' \\cdot A^{-1}$.\n",
    "\n",
    "But an inverse, $A^{-1}$ doesn't exist. But \"pseudo-inverse\" $A^+$ does exist.\n",
    "\n",
    "What $A^+$ means:\n",
    "\n",
    "If $x = z \\cdot A^{-1}$, then $x \\approx z \\cdot A^+$. More importantly, $A^{+}$ always exists and can be efficiently calculated by a computer, like so:"
   ]
  },
  {
   "cell_type": "code",
   "execution_count": 26,
   "metadata": {},
   "outputs": [
    {
     "data": {
      "text/plain": [
       "(5, 784)"
      ]
     },
     "execution_count": 26,
     "metadata": {},
     "output_type": "execute_result"
    }
   ],
   "source": [
    "inv_A = np.linalg.pinv(A)\n",
    "inv_A.shape"
   ]
  },
  {
   "cell_type": "markdown",
   "metadata": {},
   "source": [
    "### 3.2.3 Getting the answers: finding the $x'_n$ for all the n"
   ]
  },
  {
   "cell_type": "markdown",
   "metadata": {
    "jp-MarkdownHeadingCollapsed": true,
    "tags": []
   },
   "source": [
    "For each $n$, we constructed $z'_n$ as seen previously, and got $x'_n$ by doing $z'_n \\cdot A^+$.\n",
    "\n",
    "#### Code"
   ]
  },
  {
   "cell_type": "code",
   "execution_count": 28,
   "metadata": {},
   "outputs": [],
   "source": [
    "z_primes = []\n",
    "for i in range(NUMBER_OF_NUMBERS):\n",
    "    z_primes.append([-3000]*i + [3000] + [-3000]*(NUMBER_OF_NUMBERS - 1 -i))\n",
    "z_primes\n",
    "best_inputs = []\n",
    "\n",
    "for z in z_primes:\n",
    "    best_inputs.append((z)@inv_A)\n",
    "\n",
    "best_inputs = np.array(best_inputs)\n",
    "best_inputs = best_inputs - np.min(best_inputs)\n",
    "best_inputs = best_inputs/np.max(best_inputs)*255\n",
    "dictionary_of_x = {}\n",
    "for i in range(len(best_inputs)):\n",
    "    dictionary_of_x[f\"best {i}\"] = best_inputs[i]\n",
    "    \n"
   ]
  },
  {
   "cell_type": "markdown",
   "metadata": {},
   "source": [
    "#### Let's see what the analytically calculated x look like:"
   ]
  },
  {
   "cell_type": "code",
   "execution_count": 29,
   "metadata": {
    "tags": []
   },
   "outputs": [
    {
     "data": {
      "image/png": "[encoded data removed]",
      "text/plain": [
       "<Figure size 432x288 with 1 Axes>"
      ]
     },
     "metadata": {
      "needs_background": "light"
     },
     "output_type": "display_data"
    },
    {
     "data": {
      "image/png": "[encoded data removed]",
      "text/plain": [
       "<Figure size 432x288 with 1 Axes>"
      ]
     },
     "metadata": {
      "needs_background": "light"
     },
     "output_type": "display_data"
    },
    {
     "data": {
      "image/png": "[encoded data removed]",
      "text/plain": [
       "<Figure size 432x288 with 1 Axes>"
      ]
     },
     "metadata": {
      "needs_background": "light"
     },
     "output_type": "display_data"
    },
    {
     "data": {
      "image/png": "[encoded data removed]",
      "text/plain": [
       "<Figure size 432x288 with 1 Axes>"
      ]
     },
     "metadata": {
      "needs_background": "light"
     },
     "output_type": "display_data"
    },
    {
     "data": {
      "image/png": "[encoded data removed]",
      "text/plain": [
       "<Figure size 432x288 with 1 Axes>"
      ]
     },
     "metadata": {
      "needs_background": "light"
     },
     "output_type": "display_data"
    }
   ],
   "source": [
    "display_dictionary_of_images(dictionary_of_x)"
   ]
  },
  {
   "cell_type": "markdown",
   "metadata": {},
   "source": [
    "They're pretty blurry, so let's try some filtering."
   ]
  },
  {
   "cell_type": "markdown",
   "metadata": {},
   "source": [
    "### 3.2.4: Filtering"
   ]
  },
  {
   "cell_type": "markdown",
   "metadata": {},
   "source": [
    "Let's modify the inverse matrix so that it doesn't give us such a wide range of noisy values."
   ]
  },
  {
   "cell_type": "markdown",
   "metadata": {},
   "source": [
    "![](filter.png)"
   ]
  },
  {
   "cell_type": "markdown",
   "metadata": {
    "jp-MarkdownHeadingCollapsed": true,
    "tags": []
   },
   "source": [
    "#### Code"
   ]
  },
  {
   "cell_type": "code",
   "execution_count": 30,
   "metadata": {},
   "outputs": [],
   "source": [
    "def get_filtered_inputs(z_prime, inv_A, b, digit):\n",
    "    \n",
    "    \n",
    "    percentiles = np.array([0,0.005, 0.01, 0.02, 0.05, 0.1, 0.2, 0.3, 0.5, 0.7, 0.8, 0.9, 0.95, 0.98,  0.99, 0.995,1])\n",
    "    percentile_indices = np.maximum((percentiles * np.size(inv_A)).astype(int) - 1, 0)\n",
    "\n",
    "    cutoffs = np.sort(np.array(inv_A).ravel())[percentile_indices]\n",
    "\n",
    "    global_min = np.min(z_prime@inv_A)\n",
    "    global_range = np.max(z_prime@inv_A) - global_min\n",
    "    \n",
    "    def invert(cut_inv_A):\n",
    "        return ((z_prime - b)@cut_inv_A)\n",
    "    \n",
    "    def scale(x):\n",
    "        x = x - global_min\n",
    "        x = x*255/global_range\n",
    "        return x\n",
    "    \n",
    "    high_pass = {}\n",
    "    high_pass_unscaled_list = []\n",
    "    low_pass = {}\n",
    "    low_pass_unscaled_list = []\n",
    "    \n",
    "    both_ends = {}\n",
    "    middle = {}\n",
    "#     print(cutoffs)\n",
    "    \n",
    "    for i in range(len(percentiles)):\n",
    "        above_iA = filter_values(inv_A, cutoffs[i], 1)\n",
    "        above_x = invert(above_iA)\n",
    "        above_x_scaled = scale(above_x)\n",
    "        \n",
    "        high_pass[f\"Digit {digit}, only above {cutoffs[i].round(3)} which is {percentiles[i]} percentile\"] = above_x_scaled\n",
    "        high_pass_unscaled_list.append(above_x)\n",
    "        \n",
    "        below_iA = filter_values(inv_A, cutoffs[i], 0)\n",
    "        below_x = invert(below_iA)\n",
    "        below_x_scaled = scale(below_x)\n",
    "        low_pass[f\"Digit {digit}, only below {cutoffs[i].round(3)} which is {percentiles[i]} percentile\"] = below_x_scaled\n",
    "        low_pass_unscaled_list.append(below_x)\n",
    "        \n",
    "    for i in range(math.ceil(len(percentiles)/2)):\n",
    "        top_and_bottom = low_pass_unscaled_list[i] + high_pass_unscaled_list[-i-1]\n",
    "        both_ends[f\"Digit {digit}, top and bottom {percentiles[i]}\"] = scale(top_and_bottom)\n",
    "        \n",
    "#         if i == 0:\n",
    "#             print(f\"cutoff low is {cutoffs[i]}, cutoff high is {cutoffs[-i-1]}\")\n",
    "#             print(f\"Digit {None}, between top and bottom {percentiles[i]}\")\n",
    "        middle_iA = limit_values(inv_A, cutoffs[i], cutoffs[-i-1])\n",
    "#         print(np.min(middle_iA),np.max(middle_iA))\n",
    "        middle_x = invert(middle_iA)\n",
    "        middle_x_scaled = scale(middle_x)\n",
    "        middle[f\"Digit {digit}, between top and bottom {percentiles[i]}\"] = middle_x_scaled\n",
    "    \n",
    "    return high_pass, low_pass, both_ends, middle\n",
    "        \n",
    "\n",
    "# Set all values of the array that is either higher or lower than the cutoff to 0\n",
    "def filter_values(array, cutoff, high_pass):\n",
    "    array = np.copy(array)\n",
    "    if high_pass:\n",
    "        delete_indices = (array <= cutoff)\n",
    "    else:\n",
    "        delete_indices = (array > cutoff)\n",
    "    array[delete_indices] = 0\n",
    "    return array\n",
    "def limit_values(array, cutoff_low, cutoff_high):\n",
    "    array = np.maximum(array, cutoff_low)\n",
    "    array = np.minimum(array, cutoff_high)\n",
    "    return array\n",
    "\n",
    "high_passes = []\n",
    "low_passes = []\n",
    "both_ends = []\n",
    "middles = []\n",
    "\n",
    "for i in range(NUMBER_OF_NUMBERS):\n",
    "    high_pass_i, low_pass_i, both_ends_i, middle_i = get_filtered_inputs(z_primes[i], inv_A, b, i)\n",
    "    high_passes.append(high_pass_i)\n",
    "    low_passes.append(low_pass_i)\n",
    "    both_ends.append(both_ends_i)\n",
    "    middles.append(middle_i)\n",
    "\n",
    "def get_dict_of_filtered_inputs(percentile_ends, percentile_middle):\n",
    "    dic = {}\n",
    "    for digit in range(NUMBER_OF_NUMBERS):\n",
    "        if percentile_ends != None:\n",
    "            string = f'Digit {digit}, top and bottom {percentile_ends}'\n",
    "            dic[string] = both_ends[digit][f'Digit {digit}, top and bottom {percentile_ends}']\n",
    "        if percentile_middle != None:\n",
    "            string = f\"Digit {digit}, between top and bottom {percentile_middle}\"\n",
    "            dic[string] = middles[digit][f\"Digit {digit}, between top and bottom {percentile_middle}\"]\n",
    "    return dic\n",
    "display_dictionary_of_images(get_dict_of_filtered_inputs(0.05, 0.2))"
   ]
  },
  {
   "cell_type": "markdown",
   "metadata": {},
   "source": [
    "#### Results"
   ]
  },
  {
   "cell_type": "code",
   "execution_count": 35,
   "metadata": {},
   "outputs": [
    {
     "data": {
      "image/png": "[encoded data removed]",
      "text/plain": [
       "<Figure size 432x288 with 1 Axes>"
      ]
     },
     "metadata": {
      "needs_background": "light"
     },
     "output_type": "display_data"
    },
    {
     "data": {
      "image/png": "[encoded data removed]",
      "text/plain": [
       "<Figure size 432x288 with 1 Axes>"
      ]
     },
     "metadata": {
      "needs_background": "light"
     },
     "output_type": "display_data"
    },
    {
     "data": {
      "image/png": "[encoded data removed]",
      "text/plain": [
       "<Figure size 432x288 with 1 Axes>"
      ]
     },
     "metadata": {
      "needs_background": "light"
     },
     "output_type": "display_data"
    },
    {
     "data": {
      "image/png": "[encoded data removed]",
      "text/plain": [
       "<Figure size 432x288 with 1 Axes>"
      ]
     },
     "metadata": {
      "needs_background": "light"
     },
     "output_type": "display_data"
    },
    {
     "data": {
      "image/png": "[encoded data removed]",
      "text/plain": [
       "<Figure size 432x288 with 1 Axes>"
      ]
     },
     "metadata": {
      "needs_background": "light"
     },
     "output_type": "display_data"
    },
    {
     "data": {
      "image/png": "[encoded data removed]",
      "text/plain": [
       "<Figure size 432x288 with 1 Axes>"
      ]
     },
     "metadata": {
      "needs_background": "light"
     },
     "output_type": "display_data"
    },
    {
     "data": {
      "image/png": "[encoded data removed]",
      "text/plain": [
       "<Figure size 432x288 with 1 Axes>"
      ]
     },
     "metadata": {
      "needs_background": "light"
     },
     "output_type": "display_data"
    },
    {
     "data": {
      "image/png": "[encoded data removed]",
      "text/plain": [
       "<Figure size 432x288 with 1 Axes>"
      ]
     },
     "metadata": {
      "needs_background": "light"
     },
     "output_type": "display_data"
    },
    {
     "data": {
      "image/png": "[encoded data removed]",
      "text/plain": [
       "<Figure size 432x288 with 1 Axes>"
      ]
     },
     "metadata": {
      "needs_background": "light"
     },
     "output_type": "display_data"
    },
    {
     "data": {
      "image/png": "[encoded data removed]",
      "text/plain": [
       "<Figure size 432x288 with 1 Axes>"
      ]
     },
     "metadata": {
      "needs_background": "light"
     },
     "output_type": "display_data"
    }
   ],
   "source": [
    "display_dictionary_of_images(get_dict_of_filtered_inputs(0.05, 0.2))"
   ]
  },
  {
   "cell_type": "markdown",
   "metadata": {},
   "source": [
    "Disappointing. :("
   ]
  },
  {
   "cell_type": "markdown",
   "metadata": {},
   "source": [
    "# 4. MLP\n",
    "\n",
    "We repeat the same procedure for MLP. \n",
    "\n",
    "Almost everything is the same, with one exception:\n",
    "\n",
    "In MLP, we can't simply invert a weights matrix. Instead, we go back from the output and invert EVERY layer, in reverse order.\n",
    "\n",
    "But first, we do the pixel-by-pixel method again:"
   ]
  },
  {
   "cell_type": "markdown",
   "metadata": {},
   "source": [
    "## 4.1 Baseline (pixel by pixel method)"
   ]
  },
  {
   "cell_type": "markdown",
   "metadata": {
    "jp-MarkdownHeadingCollapsed": true,
    "tags": []
   },
   "source": [
    "#### Code"
   ]
  },
  {
   "cell_type": "code",
   "execution_count": 36,
   "metadata": {},
   "outputs": [],
   "source": [
    "weights = [layer.get_weights() for layer in mlp.layers]\n",
    "\n",
    "As, bs = [],[]\n",
    "\n",
    "for weight in weights:\n",
    "    As.append(weight[0])\n",
    "    bs.append(weight[1])"
   ]
  },
  {
   "cell_type": "code",
   "execution_count": 37,
   "metadata": {},
   "outputs": [],
   "source": [
    "def mock_relu(X, alpha = 0.01):\n",
    "    Y = X * 0.01\n",
    "    return np.maximum(X,Y)\n",
    "\n",
    "def anti_leakyrelu(X, alpha):\n",
    "    def myfunc(x):\n",
    "        if x >= 0:\n",
    "            return x\n",
    "        else:\n",
    "            return x / alpha\n",
    "    myfunc_vec = np.vectorize(myfunc)\n",
    "    return myfunc_vec(X)\n"
   ]
  },
  {
   "cell_type": "code",
   "execution_count": 39,
   "metadata": {},
   "outputs": [],
   "source": [
    "z_primes = []\n",
    "for i in range(NUMBER_OF_NUMBERS):\n",
    "    z_primes.append([-10]*i + [10] + [-10]*(NUMBER_OF_NUMBERS - 1 -i))\n"
   ]
  },
  {
   "cell_type": "code",
   "execution_count": 40,
   "metadata": {},
   "outputs": [],
   "source": [
    "def reverse_z(z_prime, As, bs):\n",
    "    z = z_prime\n",
    "    for layer in [2,1,0]:\n",
    "        z_old = z[:]\n",
    "        if layer != len(As) - 1:\n",
    "            z = anti_leakyrelu(z, LEAKY_ALPHA)\n",
    "        z = z - bs[layer]\n",
    "        inv_A = np.linalg.pinv(As[layer])\n",
    "        z = z@inv_A\n",
    "        \n",
    "    return z\n",
    "    \n",
    "\n",
    "best_inputs_unscaled = []\n",
    "\n",
    "for z in z_primes:\n",
    "    best_inputs_unscaled.append(reverse_z(z, As,bs))\n",
    "\n",
    "best_inputs_unscaled = np.array(best_inputs_unscaled)"
   ]
  },
  {
   "cell_type": "code",
   "execution_count": 41,
   "metadata": {},
   "outputs": [],
   "source": [
    "def fake_predict(rando):\n",
    "    x = rando\n",
    "    for i in range(3):\n",
    "        x = x@As[i]\n",
    "        x = x + bs[i]\n",
    "        if i != 2:\n",
    "            x = mock_relu(x)\n",
    "    return x"
   ]
  },
  {
   "cell_type": "code",
   "execution_count": 42,
   "metadata": {},
   "outputs": [],
   "source": [
    "dic = {}\n",
    "\n",
    "for i in range(NUMBER_OF_NUMBERS):\n",
    "    goal_index = i\n",
    "    def get_priority(index):\n",
    "        test = np.zeros((784))\n",
    "        test[index] = 1\n",
    "        testtest = fake_predict(test)\n",
    "        goals = np.ones((NUMBER_OF_NUMBERS)) * -1\n",
    "\n",
    "        goals[goal_index] = 1\n",
    "        return sum(testtest * goals)\n",
    "    ls = list(range(784))\n",
    "    ls.sort(reverse=True, key=get_priority)\n",
    "\n",
    "#     whites = np.array(ls[:150]) \n",
    "    x = np.zeros((784))\n",
    "#     x[whites] = 255\n",
    "    for j in range(255):\n",
    "        x[ls[j]] = 255 - j\n",
    "    dic[f'black and white number {i}'] = x\n",
    "\n"
   ]
  },
  {
   "cell_type": "markdown",
   "metadata": {},
   "source": [
    "#### Results"
   ]
  },
  {
   "cell_type": "code",
   "execution_count": 43,
   "metadata": {},
   "outputs": [
    {
     "data": {
      "image/png": "[encoded data removed]",
      "text/plain": [
       "<Figure size 432x288 with 1 Axes>"
      ]
     },
     "metadata": {
      "needs_background": "light"
     },
     "output_type": "display_data"
    },
    {
     "data": {
      "image/png": "[encoded data removed]",
      "text/plain": [
       "<Figure size 432x288 with 1 Axes>"
      ]
     },
     "metadata": {
      "needs_background": "light"
     },
     "output_type": "display_data"
    },
    {
     "data": {
      "image/png": "[encoded data removed]",
      "text/plain": [
       "<Figure size 432x288 with 1 Axes>"
      ]
     },
     "metadata": {
      "needs_background": "light"
     },
     "output_type": "display_data"
    },
    {
     "data": {
      "image/png": "[encoded data removed]",
      "text/plain": [
       "<Figure size 432x288 with 1 Axes>"
      ]
     },
     "metadata": {
      "needs_background": "light"
     },
     "output_type": "display_data"
    },
    {
     "data": {
      "image/png": "[encoded data removed]",
      "text/plain": [
       "<Figure size 432x288 with 1 Axes>"
      ]
     },
     "metadata": {
      "needs_background": "light"
     },
     "output_type": "display_data"
    }
   ],
   "source": [
    "display_dictionary_of_images(dic)"
   ]
  },
  {
   "cell_type": "markdown",
   "metadata": {},
   "source": [
    "## 4.2 Analytical method"
   ]
  },
  {
   "cell_type": "markdown",
   "metadata": {
    "jp-MarkdownHeadingCollapsed": true,
    "tags": []
   },
   "source": [
    "#### code"
   ]
  },
  {
   "cell_type": "code",
   "execution_count": 49,
   "metadata": {},
   "outputs": [],
   "source": [
    "best_inputs = best_inputs_unscaled - np.min(best_inputs_unscaled)\n",
    "best_inputs = best_inputs/np.max(best_inputs)*255\n",
    "dictionary_of_x = {}\n",
    "for i in range(len(best_inputs)):\n",
    "    dictionary_of_x[f\"best {i}\"] = best_inputs[i]\n",
    "def display_dictionary_of_images(dic):\n",
    "    %matplotlib inline\n",
    "\n",
    "    for key in dic.keys():\n",
    "\n",
    "        # Reshape the input vector from 1D 784 to 2D 28x28\n",
    "        # And make it 8-bit \n",
    "        x_prime = dic[key]\n",
    "        x_prime_reshaped = x_prime.reshape((28,28)).astype('uint8')\n",
    "\n",
    "        # Use image module to turn the array into an image\n",
    "        image = im.fromarray(x_prime_reshaped, mode='L')\n",
    "\n",
    "        #Display the image\n",
    "        plt.figure()\n",
    "        plt.title(key)\n",
    "        plt.imshow(np.asarray(image),cmap='Greys_r', vmin=0, vmax=255)"
   ]
  },
  {
   "cell_type": "markdown",
   "metadata": {},
   "source": [
    "#### results"
   ]
  },
  {
   "cell_type": "code",
   "execution_count": 50,
   "metadata": {},
   "outputs": [
    {
     "data": {
      "image/png": "[encoded data removed]",
      "text/plain": [
       "<Figure size 432x288 with 1 Axes>"
      ]
     },
     "metadata": {
      "needs_background": "light"
     },
     "output_type": "display_data"
    },
    {
     "data": {
      "image/png": "[encoded data removed]",
      "text/plain": [
       "<Figure size 432x288 with 1 Axes>"
      ]
     },
     "metadata": {
      "needs_background": "light"
     },
     "output_type": "display_data"
    },
    {
     "data": {
      "image/png": "[encoded data removed]",
      "text/plain": [
       "<Figure size 432x288 with 1 Axes>"
      ]
     },
     "metadata": {
      "needs_background": "light"
     },
     "output_type": "display_data"
    },
    {
     "data": {
      "image/png": "[encoded data removed]",
      "text/plain": [
       "<Figure size 432x288 with 1 Axes>"
      ]
     },
     "metadata": {
      "needs_background": "light"
     },
     "output_type": "display_data"
    },
    {
     "data": {
      "image/png": "[encoded data removed]",
      "text/plain": [
       "<Figure size 432x288 with 1 Axes>"
      ]
     },
     "metadata": {
      "needs_background": "light"
     },
     "output_type": "display_data"
    }
   ],
   "source": [
    "display_dictionary_of_images(dictionary_of_x)"
   ]
  },
  {
   "cell_type": "markdown",
   "metadata": {},
   "source": [
    "4 looks like a lion"
   ]
  },
  {
   "cell_type": "markdown",
   "metadata": {},
   "source": [
    "### 4.2.1 - Filtering is skipped for this, as it produced no interesting results"
   ]
  },
  {
   "cell_type": "markdown",
   "metadata": {},
   "source": [
    "# 5. Conclusion and thoughts"
   ]
  },
  {
   "cell_type": "markdown",
   "metadata": {},
   "source": [
    "In summary:\n",
    "\n",
    "- Analytical method usually didn't work so well\n",
    "\n",
    "- Baseline method (pixel by pixel) generated images that made more sense\n",
    "    - Interestingly, baseline's superiority is greater in MLP, where it shouldn't be."
   ]
  },
  {
   "cell_type": "markdown",
   "metadata": {},
   "source": [
    "## 5.1 Possible explanations"
   ]
  },
  {
   "cell_type": "markdown",
   "metadata": {},
   "source": [
    "- Analytical method is dominated by noise, in a way that the filtering couldn't remove.\n",
    "- x space avaiable to the inverse is greater than IRL:\n",
    "    - space (dimensions)\n",
    "    - range"
   ]
  },
  {
   "cell_type": "code",
   "execution_count": null,
   "metadata": {},
   "outputs": [],
   "source": []
  }
 ],
 "metadata": {
  "kernelspec": {
   "display_name": "Python 3",
   "language": "python",
   "name": "python3"
  },
  "language_info": {
   "codemirror_mode": {
    "name": "ipython",
    "version": 3
   },
   "file_extension": ".py",
   "mimetype": "text/x-python",
   "name": "python",
   "nbconvert_exporter": "python",
   "pygments_lexer": "ipython3",
   "version": "3.7.3"
  },
  "varInspector": {
   "cols": {
    "lenName": 16,
    "lenType": 16,
    "lenVar": 40
   },
   "kernels_config": {
    "python": {
     "delete_cmd_postfix": "",
     "delete_cmd_prefix": "del ",
     "library": "var_list.py",
     "varRefreshCmd": "print(var_dic_list())"
    },
    "r": {
     "delete_cmd_postfix": ") ",
     "delete_cmd_prefix": "rm(",
     "library": "var_list.r",
     "varRefreshCmd": "cat(var_dic_list()) "
    }
   },
   "types_to_exclude": [
    "module",
    "function",
    "builtin_function_or_method",
    "instance",
    "_Feature"
   ],
   "window_display": false
  }
 },
 "nbformat": 4,
 "nbformat_minor": 5
}
